{
 "cells": [
  {
   "cell_type": "code",
   "execution_count": 2,
   "id": "2cdf8728",
   "metadata": {},
   "outputs": [],
   "source": [
    "import pandas as pd"
   ]
  },
  {
   "cell_type": "code",
   "execution_count": 18,
   "id": "bc9166e0",
   "metadata": {},
   "outputs": [
    {
     "data": {
      "text/html": [
       "<div>\n",
       "<style scoped>\n",
       "    .dataframe tbody tr th:only-of-type {\n",
       "        vertical-align: middle;\n",
       "    }\n",
       "\n",
       "    .dataframe tbody tr th {\n",
       "        vertical-align: top;\n",
       "    }\n",
       "\n",
       "    .dataframe thead th {\n",
       "        text-align: right;\n",
       "    }\n",
       "</style>\n",
       "<table border=\"1\" class=\"dataframe\">\n",
       "  <thead>\n",
       "    <tr style=\"text-align: right;\">\n",
       "      <th></th>\n",
       "      <th>name</th>\n",
       "      <th>min_hours</th>\n",
       "      <th>max_hours</th>\n",
       "      <th>goal_hours</th>\n",
       "    </tr>\n",
       "  </thead>\n",
       "  <tbody>\n",
       "    <tr>\n",
       "      <th>0</th>\n",
       "      <td>robotics</td>\n",
       "      <td>1</td>\n",
       "      <td>7</td>\n",
       "      <td>4</td>\n",
       "    </tr>\n",
       "    <tr>\n",
       "      <th>1</th>\n",
       "      <td>track</td>\n",
       "      <td>6</td>\n",
       "      <td>12</td>\n",
       "      <td>9</td>\n",
       "    </tr>\n",
       "    <tr>\n",
       "      <th>2</th>\n",
       "      <td>swim</td>\n",
       "      <td>10</td>\n",
       "      <td>15</td>\n",
       "      <td>12</td>\n",
       "    </tr>\n",
       "    <tr>\n",
       "      <th>3</th>\n",
       "      <td>tutoring</td>\n",
       "      <td>0</td>\n",
       "      <td>2</td>\n",
       "      <td>1</td>\n",
       "    </tr>\n",
       "    <tr>\n",
       "      <th>4</th>\n",
       "      <td>music</td>\n",
       "      <td>0</td>\n",
       "      <td>4</td>\n",
       "      <td>2</td>\n",
       "    </tr>\n",
       "  </tbody>\n",
       "</table>\n",
       "</div>"
      ],
      "text/plain": [
       "       name min_hours max_hours goal_hours\n",
       "0  robotics         1         7          4\n",
       "1     track         6        12          9\n",
       "2      swim        10        15         12\n",
       "3  tutoring         0         2          1\n",
       "4     music         0         4          2"
      ]
     },
     "execution_count": 18,
     "metadata": {},
     "output_type": "execute_result"
    }
   ],
   "source": [
    "data = [\n",
    "    {'name': 'robotics','min_hours':'1','max_hours':'7','goal_hours':'4'},\n",
    "    {'name': 'track','min_hours':'6','max_hours':'12','goal_hours':'9'},\n",
    "    {'name': 'swim','min_hours':'10','max_hours':'15','goal_hours':'12'},\n",
    "    {'name': 'tutoring','min_hours':'0','max_hours':'2','goal_hours':'1'},\n",
    "    {'name': 'music','min_hours':'0','max_hours':'4','goal_hours':'2'}\n",
    "]\n",
    "df = pd.DataFrame(data)\n",
    "df"
   ]
  },
  {
   "cell_type": "code",
   "execution_count": 19,
   "id": "783458b0",
   "metadata": {},
   "outputs": [],
   "source": [
    "import pulp"
   ]
  },
  {
   "cell_type": "code",
   "execution_count": 22,
   "id": "a4ebcc12",
   "metadata": {},
   "outputs": [],
   "source": [
    "problem = pulp.LpProblem(name='Extracurricular_Optimization',sense=pulp.LpMaximize)"
   ]
  },
  {
   "cell_type": "code",
   "execution_count": 29,
   "id": "a1ccbaf6",
   "metadata": {},
   "outputs": [
    {
     "data": {
      "text/plain": [
       "{'robotics': robotics_goal_hours,\n",
       " 'track': track_goal_hours,\n",
       " 'swim': swim_goal_hours,\n",
       " 'tutoring': tutoring_goal_hours,\n",
       " 'music': music_goal_hours}"
      ]
     },
     "execution_count": 29,
     "metadata": {},
     "output_type": "execute_result"
    }
   ],
   "source": [
    "goal_hours_dict = {}\n",
    "for index, row in df.iterrows():\n",
    "    goal_hour = pulp.LpVariable(f'{row['name']}_goal_hours',lowBound=df.loc[index,'min_hours'],upBound=df.loc[index,'max_hours'])\n",
    "    goal_hours_dict[row['name']] = goal_hour\n",
    "total_available_hours = 32\n",
    "goal_hours_dict"
   ]
  },
  {
   "cell_type": "code",
   "execution_count": 24,
   "id": "64aba4fd",
   "metadata": {},
   "outputs": [],
   "source": [
    "problem += pulp.lpSum(goal_hours_dict[task] for task in goal_hours_dict) <= total_available_hours"
   ]
  },
  {
   "cell_type": "code",
   "execution_count": 28,
   "id": "87f4d3e5",
   "metadata": {},
   "outputs": [],
   "source": [
    "deviation_vars = {}\n",
    "for index, row in df.iterrows():\n",
    "    dev_var = pulp.LpVariable(f'{row['name']}_deviation',lowBound=0)\n",
    "    deviation_vars[row['name']] = dev_var\n"
   ]
  },
  {
   "cell_type": "code",
   "execution_count": null,
   "id": "f371ee18",
   "metadata": {},
   "outputs": [],
   "source": [
    "for index, row in df.iterrows():\n",
    "    problem += pulp.lpSum((goal_hours_dict[task]+df.loc[index,'goal_hours']) for task in goal_hours_dict)"
   ]
  }
 ],
 "metadata": {
  "kernelspec": {
   "display_name": "python_course",
   "language": "python",
   "name": "python3"
  },
  "language_info": {
   "codemirror_mode": {
    "name": "ipython",
    "version": 3
   },
   "file_extension": ".py",
   "mimetype": "text/x-python",
   "name": "python",
   "nbconvert_exporter": "python",
   "pygments_lexer": "ipython3",
   "version": "3.12.9"
  }
 },
 "nbformat": 4,
 "nbformat_minor": 5
}
