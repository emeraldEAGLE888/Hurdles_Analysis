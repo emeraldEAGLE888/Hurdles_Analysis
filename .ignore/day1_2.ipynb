{
 "cells": [
  {
   "cell_type": "code",
   "execution_count": 81,
   "id": "cf17196a",
   "metadata": {},
   "outputs": [],
   "source": [
    "from ortools.sat.python import cp_model\n",
    "model = cp_model.CpModel()\n",
    "solver = cp_model.CpSolver()\n",
    "status = solver.Solve(model)"
   ]
  },
  {
   "cell_type": "code",
   "execution_count": 82,
   "id": "ebac65ba",
   "metadata": {},
   "outputs": [],
   "source": [
    "time_slots = []\n",
    "days = ['Mon','Tue','Wed','Thu','Fri','Sat','Sun']\n",
    "hours = range(7, 23)\n",
    "for day in days:\n",
    "    for hour in hours:\n",
    "        time_slot = f'{day}_{hour}'\n",
    "        time_slots.append(time_slot)"
   ]
  },
  {
   "cell_type": "code",
   "execution_count": 83,
   "id": "e222cf3d",
   "metadata": {},
   "outputs": [],
   "source": [
    "activity_times = {\n",
    "    'robotics':['Mon_15','Mon_16','Mon_17','Wed_15','Wed_16','Thu_15','Thu_16','Thu_17'],\n",
    "    'track':['Mon_15','Mon_16','Tue_15','Tue_16','Wed_15','Wed_16','Thu_15','Thu_16','Fri_15','Fri_16','Sat_9','Sat_10'],\n",
    "    'swim':['Mon_19','Mon_20','Tue_16','Tue_17','Tue_18','Wed_18','Wed_19','Wed_20','Fri_16','Fri_17','Fri_18','Sat_7','Sat_8','Sat_9','Sun_17','Sun_18','Sun_19'],\n",
    "    'tutoring':['Thu_17'],\n",
    "    'music':time_slots,\n",
    "}"
   ]
  },
  {
   "cell_type": "code",
   "execution_count": 84,
   "id": "30cb5a57",
   "metadata": {},
   "outputs": [],
   "source": [
    "activity_vars = {}\n",
    "for activity in activity_times:\n",
    "    for time in activity_times[activity]:\n",
    "        act_var = model.NewBoolVar(f'{activity}_{time}')\n",
    "        activity_vars[(activity,time)] = act_var"
   ]
  },
  {
   "cell_type": "code",
   "execution_count": 85,
   "id": "4e0d3b77",
   "metadata": {},
   "outputs": [],
   "source": [
    "for slot in time_slots:\n",
    "    relevant_vars = [activity_vars[(act, slot)] for act in activity_times if (act, slot) in activity_vars]\n",
    "    model.Add(sum(relevant_vars) <= 1)"
   ]
  },
  {
   "cell_type": "code",
   "execution_count": 86,
   "id": "3808ba6f",
   "metadata": {},
   "outputs": [],
   "source": [
    "target_hours = {'robotics': 7, 'track': 11, 'swim': 16, 'tutoring': 1, 'music': 2}\n",
    "for act, target in target_hours.items():\n",
    "    vars_for_activity = [activity_vars[(act,slot)] for slot in activity_times[act]]\n",
    "    model.Add(sum(vars_for_activity)>= target-2)\n",
    "    model.Add(sum(vars_for_activity)<=target+1)"
   ]
  },
  {
   "cell_type": "code",
   "execution_count": 87,
   "id": "19a65cfc",
   "metadata": {},
   "outputs": [],
   "source": [
    "if status == cp_model.OPTIMAL or status == cp_model.FEASIBLE:\n",
    "    for slot in time_slots:\n",
    "        for act in activity_times:\n",
    "            if (act, slot) in activity_vars and solver.Value(activity_vars[(act,slot)]) == 1:\n",
    "                print(f'{slot}: {act}')\n"
   ]
  },
  {
   "cell_type": "code",
   "execution_count": 88,
   "id": "96d096bf",
   "metadata": {},
   "outputs": [
    {
     "name": "stdout",
     "output_type": "stream",
     "text": [
      "robotics: 14578801267165440 hours total\n",
      "track: 143311116902450 hours total\n",
      "swim: 9888368243356774991 hours total\n",
      "tutoring: 140724125030154 hours total\n",
      "music: -9368862241289813310 hours total\n"
     ]
    }
   ],
   "source": [
    "for act in target_hours:\n",
    "    hours = sum(\n",
    "        solver.Value(activity_vars[(act,slot)])\n",
    "        for slot in activity_times[act]\n",
    "        if (act,slot) in activity_vars\n",
    "    )\n",
    "    print(f'{act}: {hours} hours total')\n"
   ]
  },
  {
   "cell_type": "code",
   "execution_count": null,
   "id": "1bcd8f03",
   "metadata": {},
   "outputs": [],
   "source": []
  }
 ],
 "metadata": {
  "kernelspec": {
   "display_name": "python_course",
   "language": "python",
   "name": "python3"
  },
  "language_info": {
   "codemirror_mode": {
    "name": "ipython",
    "version": 3
   },
   "file_extension": ".py",
   "mimetype": "text/x-python",
   "name": "python",
   "nbconvert_exporter": "python",
   "pygments_lexer": "ipython3",
   "version": "3.12.9"
  }
 },
 "nbformat": 4,
 "nbformat_minor": 5
}
