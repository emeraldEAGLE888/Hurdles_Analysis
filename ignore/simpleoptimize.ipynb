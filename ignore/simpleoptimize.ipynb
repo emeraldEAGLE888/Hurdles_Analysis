{
 "cells": [
  {
   "cell_type": "code",
   "execution_count": 1,
   "id": "f3c8ebf9",
   "metadata": {},
   "outputs": [],
   "source": [
    "from ortools.sat.python import cp_model\n",
    "model = cp_model.CpModel()"
   ]
  },
  {
   "cell_type": "code",
   "execution_count": 2,
   "id": "e4fa2b71",
   "metadata": {},
   "outputs": [],
   "source": [
    "time_slots = []\n",
    "days = ['Mon','Tue','Wed','Thu','Fri','Sat','Sun']\n",
    "hours = range(7, 23)\n",
    "for day in days:\n",
    "    for hour in hours:\n",
    "        time_slot = f'{day}_{hour}'\n",
    "        time_slots.append(time_slot)"
   ]
  },
  {
   "cell_type": "code",
   "execution_count": 3,
   "id": "bb41113b",
   "metadata": {},
   "outputs": [],
   "source": [
    "activity_times = {\n",
    "    'robotics':['Mon_15','Mon_16','Mon_17','Wed_15','Wed_16','Thu_15','Thu_16','Thu_17'],\n",
    "    'track':['Mon_15','Mon_16','Tue_15','Tue_16','Wed_15','Wed_16','Thu_15','Thu_16','Fri_15','Fri_16','Sat_9','Sat_10'],\n",
    "    'swim':['Mon_19','Mon_20','Tue_16','Tue_17','Tue_18','Wed_18','Wed_19','Wed_20','Fri_16','Fri_17','Fri_18','Sat_7','Sat_8','Sat_9','Sun_17','Sun_18','Sun_19'],\n",
    "    'tutoring':['Thu_17','Thu_18'],\n",
    "    'music':time_slots,\n",
    "}"
   ]
  },
  {
   "cell_type": "code",
   "execution_count": 4,
   "id": "ccc04c01",
   "metadata": {},
   "outputs": [],
   "source": [
    "activity_vars = {}\n",
    "for activity in activity_times:\n",
    "    for time in activity_times[activity]:\n",
    "        act_var = model.NewBoolVar(f'{activity}_{time}')\n",
    "        activity_vars[(activity,time)] = act_var"
   ]
  },
  {
   "cell_type": "code",
   "execution_count": 5,
   "id": "e7005e2c",
   "metadata": {},
   "outputs": [],
   "source": [
    "for slot in time_slots:\n",
    "    relevant_vars = [activity_vars[(act, slot)] for act in activity_times if (act, slot) in activity_vars]\n",
    "    model.Add(sum(relevant_vars) <= 1)"
   ]
  },
  {
   "cell_type": "code",
   "execution_count": 6,
   "id": "f81fd14d",
   "metadata": {},
   "outputs": [],
   "source": [
    "target_hours = {'robotics': 7, 'track': 11, 'swim': 16, 'tutoring': 1, 'music': 2}\n",
    "for act, target in target_hours.items():\n",
    "    vars_for_activity = [activity_vars[(act,slot)] for slot in activity_times[act]]\n",
    "    model.Add(sum(vars_for_activity)>= max(target-2,1))\n",
    "    model.Add(sum(vars_for_activity)<=target+1)"
   ]
  },
  {
   "cell_type": "code",
   "execution_count": 7,
   "id": "e227b19b",
   "metadata": {},
   "outputs": [],
   "source": [
    "solver = cp_model.CpSolver()\n",
    "status = solver.Solve(model)"
   ]
  },
  {
   "cell_type": "code",
   "execution_count": 8,
   "id": "9511540a",
   "metadata": {},
   "outputs": [
    {
     "name": "stdout",
     "output_type": "stream",
     "text": [
      "Mon_15: robotics\n",
      "Mon_16: robotics\n",
      "Mon_17: robotics\n",
      "Mon_19: swim\n",
      "Mon_20: swim\n",
      "Tue_15: track\n",
      "Tue_16: track\n",
      "Tue_17: swim\n",
      "Tue_18: swim\n",
      "Wed_15: robotics\n",
      "Wed_16: track\n",
      "Wed_18: swim\n",
      "Wed_19: swim\n",
      "Wed_20: swim\n",
      "Thu_15: track\n",
      "Thu_16: track\n",
      "Thu_17: robotics\n",
      "Thu_18: tutoring\n",
      "Fri_15: track\n",
      "Fri_16: track\n",
      "Fri_17: swim\n",
      "Fri_18: swim\n",
      "Sat_7: swim\n",
      "Sat_8: swim\n",
      "Sat_9: track\n",
      "Sat_10: track\n",
      "Sun_17: swim\n",
      "Sun_18: swim\n",
      "Sun_19: swim\n",
      "Sun_21: music\n",
      "Sun_22: music\n"
     ]
    }
   ],
   "source": [
    "if status == cp_model.OPTIMAL or status == cp_model.FEASIBLE:\n",
    "    for slot in time_slots:\n",
    "        for act in activity_times:\n",
    "            if (act, slot) in activity_vars and solver.Value(activity_vars[(act,slot)]) == 1:\n",
    "                print(f'{slot}: {act}')"
   ]
  },
  {
   "cell_type": "code",
   "execution_count": 9,
   "id": "b1f99883",
   "metadata": {},
   "outputs": [
    {
     "name": "stdout",
     "output_type": "stream",
     "text": [
      "robotics: 5 hours scheduled\n",
      "track: 9 hours scheduled\n",
      "swim: 14 hours scheduled\n",
      "tutoring: 1 hours scheduled\n",
      "music: 2 hours scheduled\n"
     ]
    }
   ],
   "source": [
    "for act in target_hours:\n",
    "    hours = sum(\n",
    "        solver.Value(activity_vars[(act, slot)])\n",
    "        for slot in activity_times[act]\n",
    "        if (act, slot) in activity_vars\n",
    "    )\n",
    "    print(f\"{act}: {hours} hours scheduled\")"
   ]
  },
  {
   "cell_type": "markdown",
   "id": "801b73d7",
   "metadata": {},
   "source": []
  },
  {
   "cell_type": "code",
   "execution_count": null,
   "id": "aebecee1",
   "metadata": {},
   "outputs": [],
   "source": []
  }
 ],
 "metadata": {
  "kernelspec": {
   "display_name": "python_course",
   "language": "python",
   "name": "python3"
  },
  "language_info": {
   "codemirror_mode": {
    "name": "ipython",
    "version": 3
   },
   "file_extension": ".py",
   "mimetype": "text/x-python",
   "name": "python",
   "nbconvert_exporter": "python",
   "pygments_lexer": "ipython3",
   "version": "3.12.9"
  }
 },
 "nbformat": 4,
 "nbformat_minor": 5
}
